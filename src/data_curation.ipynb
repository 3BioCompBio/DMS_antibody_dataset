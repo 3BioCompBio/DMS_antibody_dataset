{
 "cells": [
  {
   "cell_type": "code",
   "execution_count": 1,
   "metadata": {},
   "outputs": [],
   "source": [
    "# Packages\n",
    "import os\n",
    "from pathlib import Path\n",
    "import csv\n",
    "\n",
    "import pandas as pd\n",
    "import numpy as np\n",
    "\n",
    "import natsort\n",
    "\n",
    "from Bio.Data.IUPACData import protein_letters_3to1\n",
    "from Bio.Data import CodonTable\n",
    "from Bio.PDB import PDBParser\n",
    "\n",
    "import camelot # \"pip install \"camelot-py[base]\"\", and maybe also \"pip install opencv-python\" and \"pip install 'PyPDF2<3.0'\"\n",
    "from scipy.spatial.distance import pdist, squareform"
   ]
  },
  {
   "cell_type": "code",
   "execution_count": 2,
   "metadata": {},
   "outputs": [],
   "source": [
    "# Directories\n",
    "working_dir = Path(os.getcwd()).parent"
   ]
  },
  {
   "cell_type": "markdown",
   "metadata": {},
   "source": [
    "# General comments\n",
    "\n",
    "- DMS data was obtained from the following sources: 1) the [Jesse Bloom lab](https://github.com/orgs/jbloomlab/repositories); 2) [Timothy Whitehead](https://scholar.google.com/citations?hl=en&user=fOvtrZUAAAAJ&view_op=list_works&sortby=pubdate) 3) looking at references from the following publication: https://www.sciencedirect.com/science/article/pii/S0165614721002273?via%3Dihub. Only DMS data of antibody-protein complexes were considered, meaning those involving non-protein binding partners were overlooked.\n",
    "\n",
    "- General structure of the directories is as follows: \"antigen name\"\\_\"author|lab\"\\_\"date (+ optional letter)\". Each directory contains a \"DMS_raw_data\" and a \"PDB_structures\" sub-directory. This directory structure needs to be created and populated with the corresponding files each time a new paper is added. The \"DMS_interface_data_dir\" sub-directory is created by the main functions below.\n",
    "\n",
    "- All PDB structures were edited with PyMOL such that 1) there is only one antibody-antigen complex per PDB file; 2) heavy and light chain antibodies are always named H and L respectively, and antigen chains are named A,B,...\n",
    "\n",
    "- TODO: For many DMS datasets, the number of extracted data points is lower than what is theoretically expected. Sometimes its because of differences between wild-type amino acid in the PDB structure and the DMS, in which case we could remodel the PDBs so that they have the same amino acid as in the DMS data (using ColabFold or FoldX). Other times the DMS data is actually not really a DMS, its a partial mutational scanning, in which case there is nothing we can do about missing amino acids.\n",
    "\n",
    "- TODO: Need to run ColabFold or FoldX ReconstructSideChains+RepairPDB to complete some RBD interafaces and other missing atoms.\n",
    "\n",
    "- TODO: Double check that the residue IDs of spike protein RBD residues in the different PDB files are correct so that we can map them directly with DMS data.\n",
    "\n",
    "- TODO: In our future publication, provide examples in our dataset of mutations with a strong impact on binding affinity that are far from the binding interface."
   ]
  },
  {
   "cell_type": "code",
   "execution_count": 3,
   "metadata": {},
   "outputs": [],
   "source": [
    "# Main functions to generate the interface DMS data CSV files\n",
    "\n",
    "def get_interface_residues(file, distance_thr=4, interface_to_return='antigen'):\n",
    "    \"\"\"\n",
    "    Extract interface residues from PDB file based on distance w.r.t the other interface. Returns either antibody or antigen interface residues.\n",
    "    \"\"\"\n",
    "    # Read PDB structure and extract antibody and antigen chains\n",
    "    parser = PDBParser(QUIET=True)\n",
    "    structure = parser.get_structure(id=file.stem, file=file)\n",
    "    chains = {\n",
    "        chain.id:chain\n",
    "        for chain in structure.get_chains()\n",
    "    }\n",
    "\n",
    "    antibody_atoms = list(chains['H'].get_atoms()) + list(chains['L'].get_atoms())\n",
    "\n",
    "    antigen_atoms = []\n",
    "    for chain in chains:\n",
    "        if chain in ('H', 'L'):\n",
    "            continue\n",
    "        antigen_atoms += list(chains[chain].get_atoms())\n",
    "\n",
    "    # Generate all vs all atom distance matrix\n",
    "    all_atoms = antigen_atoms + antibody_atoms\n",
    "    all_atoms_coords = [biopython_atom_object.coord for biopython_atom_object in all_atoms]\n",
    "\n",
    "    distance_matrix = pd.DataFrame(\n",
    "        data=squareform(pdist(all_atoms_coords, metric='euclidean'), checks=True),\n",
    "        index=all_atoms, columns=all_atoms\n",
    "    )\n",
    "\n",
    "    # rows = antigen atoms, columns = antibody atoms\n",
    "    antigen_rows_mask = [\n",
    "        True if atom.parent.parent.id not in ('H', 'L') else False\n",
    "        for atom in distance_matrix.index.values\n",
    "    ]\n",
    "    antibody_columns_mask = [\n",
    "        True if atom.parent.parent.id in ('H', 'L') else False\n",
    "        for atom in distance_matrix.columns.values\n",
    "    ]\n",
    "    distance_matrix = distance_matrix.loc[antigen_rows_mask, antibody_columns_mask]\n",
    "\n",
    "    # Extract corresponding interface residues\n",
    "    if interface_to_return == 'antibody':\n",
    "        axis=0\n",
    "    elif interface_to_return == 'antigen':\n",
    "        axis=1\n",
    "    else:\n",
    "        raise ValueError(\"interface_to_return must be either 'antibody' or 'antigen'\")\n",
    "    \n",
    "    interface_atoms_mask = distance_matrix.apply(lambda row_or_column:row_or_column.le(distance_thr).any(), axis=axis) # All interface atoms within X distance of any atom of the other interface\n",
    "    interface_atoms = distance_matrix.index[interface_atoms_mask] if interface_to_return == 'antigen' else distance_matrix.columns[interface_atoms_mask]\n",
    "    \n",
    "    interface_residues = []\n",
    "    for atom in interface_atoms:\n",
    "        resname_3 = atom.parent.resname.title()\n",
    "        if resname_3 not in protein_letters_3to1: # Ignore non-amino acid interface atoms like waters\n",
    "            continue\n",
    "        \n",
    "        resname_1 = protein_letters_3to1[resname_3]\n",
    "        residue_number = str(atom.parent.id[1])\n",
    "        chain = atom.parent.parent.id\n",
    "\n",
    "        interface_residues.append(f'{chain}:{resname_1}{residue_number}') # eg: A:V123\n",
    "        \n",
    "    return set(interface_residues)\n",
    "\n",
    "def add_chain_info_to_mut_name(chainless_mut_name, interface_residues):\n",
    "    \"\"\"\n",
    "    \"\"\"\n",
    "    for full_residue_ID in interface_residues:\n",
    "        if full_residue_ID.endswith(chainless_mut_name[:-1]):\n",
    "            chain_ID = full_residue_ID[0]\n",
    "            return f'{chain_ID}:{chainless_mut_name}'\n",
    "        \n",
    "def write_interface_DMS_data_files(paper_dir, data, DMS_data_col_name, interface_to_return='antigen'):\n",
    "    \"\"\"\n",
    "    For each antibody-antigen complex in the paper_dir, creates a CSV file containing DMS data of interface residues only.\n",
    "    \"\"\"\n",
    "    DMS_raw_data_dir = paper_dir / 'DMS_raw_data'\n",
    "    DMS_interface_data_dir = paper_dir / 'DMS_interface_data'; DMS_interface_data_dir.mkdir(exist_ok=True)\n",
    "    PDB_structures_dir = paper_dir / 'PDB_structures'\n",
    "\n",
    "    for DMS_data_file_name, PDB_structure_file_name in data.items():\n",
    "        PDB_ID = PDB_structure_file_name.removesuffix('.pdb')\n",
    "        DMS_data_file_path = DMS_raw_data_dir / DMS_data_file_name\n",
    "        PDB_structure_file_path = PDB_structures_dir / PDB_structure_file_name\n",
    "\n",
    "        df_DMS = pd.read_csv(DMS_data_file_path, header=0)\n",
    "        interface_residues = get_interface_residues(file=PDB_structure_file_path, distance_thr=4, interface_to_return=interface_to_return)\n",
    "        if interface_to_return == 'antigen':\n",
    "            # Antigen DMS raw data files do not contain chain information, unlike antibody DMS data. To obtain the chain information for antigens, we assume that their\n",
    "            # interface residue IDs are unique (including when the interface involves mutiple antigen chains). We then cross-check these residue IDs with the \n",
    "            # interface residues derived from the PDB structure to obtain the chain IDs.\n",
    "            df_DMS['mut_name'] = df_DMS.apply(lambda row:f'{row.wildtype}{row.site}{row.mutation}', axis=1) # No chain information\n",
    "            interface_df = df_DMS.loc[\n",
    "                df_DMS.mut_name.apply(lambda mut_name:any(full_residue_ID.endswith(mut_name[:-1]) for full_residue_ID in interface_residues)), # eg: mut_name=V123G, full_residue_ID=A:V123\n",
    "                ['mut_name', DMS_data_col_name]\n",
    "            ]\n",
    "            interface_df['mut_name'] = interface_df.mut_name.apply(add_chain_info_to_mut_name, args=(interface_residues,))\n",
    "\n",
    "        elif interface_to_return == 'antibody':\n",
    "            df_DMS['mut_name'] = df_DMS.apply(lambda row:f'{row.chain}:{row.wildtype}{row.site}{row.mutation}', axis=1)\n",
    "            interface_df = df_DMS.loc[df_DMS.mut_name.str.startswith(tuple(interface_residues)),  ['mut_name', DMS_data_col_name]] # eg: mut_name=H:V123G, interface_residues=full_residue_ID=[H:V123, ...]\n",
    "        \n",
    "        else:\n",
    "            raise ValueError(\"interface_to_return must be either 'antibody' or 'antigen'\")\n",
    "        \n",
    "        interface_df.to_csv(DMS_interface_data_dir / f'{PDB_ID}_interface_DMS_data.csv', index=None)\n",
    "        \n",
    "        print(f'{PDB_ID}: {len(interface_df)}/{len(interface_residues)*20} data points.')\n",
    "    \n",
    "    return\n"
   ]
  },
  {
   "cell_type": "markdown",
   "metadata": {},
   "source": [
    "# Zika virus"
   ]
  },
  {
   "cell_type": "markdown",
   "metadata": {},
   "source": [
    "Publication: https://journals.asm.org/doi/full/10.1128/jvi.01291-19#F5\n",
    "\n",
    "GitHub: https://github.com/jbloomlab/ZIKV_DMS_with_EvansLab\n",
    "\n",
    "The paper has DMS data for antibodies ZK-64 and ZK-185, but there is only a PDB structure for the first antibody (5KVF), so we can't exploit the DMS of the second antibody."
   ]
  },
  {
   "cell_type": "code",
   "execution_count": 4,
   "metadata": {},
   "outputs": [],
   "source": [
    "paper_dir = working_dir / 'zika_JBloom_2019'"
   ]
  },
  {
   "cell_type": "code",
   "execution_count": 5,
   "metadata": {},
   "outputs": [
    {
     "name": "stdout",
     "output_type": "stream",
     "text": [
      "ZV64_5kvf: 280/300 data points.\n"
     ]
    }
   ],
   "source": [
    "data = {\n",
    "    'summary_ZKA64-meanmutdiffsel.csv':'ZV64_5kvf.pdb',\n",
    "    #'summary_ZKA185-meanmutdiffsel.csv':'....pdb'\n",
    "}\n",
    "\n",
    "write_interface_DMS_data_files(paper_dir, data, DMS_data_col_name='mutdiffsel')"
   ]
  },
  {
   "cell_type": "markdown",
   "metadata": {},
   "source": [
    "Publication: https://journals.asm.org/doi/full/10.1128/jvi.01414-23\n",
    "\n",
    "GitHub: https://github.com/jbloomlab/ZIKV_MAP_GooLab\n",
    "\n",
    "Paper with DMS data for 5 antibodies.\n",
    "\n",
    "Note: Antibody ZV67 might be a negative control, maybe there is no mutational data ? Check"
   ]
  },
  {
   "cell_type": "code",
   "execution_count": 6,
   "metadata": {},
   "outputs": [],
   "source": [
    "paper_dir = working_dir / 'zika_JBloom_2023'"
   ]
  },
  {
   "cell_type": "code",
   "execution_count": 7,
   "metadata": {},
   "outputs": [
    {
     "name": "stdout",
     "output_type": "stream",
     "text": [
      "EDE1-C8_5lbs: 80/100 data points.\n",
      "EDE1-C10_5h37: 400/400 data points.\n",
      "MZ4_6niu: 320/320 data points.\n",
      "SIgN-3C_7bua: 340/340 data points.\n",
      "ZV-67_5kvg: 440/480 data points.\n"
     ]
    }
   ],
   "source": [
    "data = {\n",
    "    'summary_EDE1-C8-1800-meanmutdiffsel.csv':'EDE1-C8_5lbs.pdb',\n",
    "    'summary_EDE1-C10-300-meanmutdiffsel.csv':'EDE1-C10_5h37.pdb',\n",
    "    'summary_MZ4-4800-medianmutdiffsel.csv':'MZ4_6niu.pdb',\n",
    "    'summary_SIgN-3C-20000-meanmutdiffsel.csv':'SIgN-3C_7bua.pdb',\n",
    "    'summary_ZV-67-40000-meanmutdiffsel.csv':'ZV-67_5kvg.pdb'\n",
    "}\n",
    "\n",
    "write_interface_DMS_data_files(paper_dir, data, DMS_data_col_name='mutdiffsel')"
   ]
  },
  {
   "cell_type": "markdown",
   "metadata": {},
   "source": [
    "# COVID-19"
   ]
  },
  {
   "cell_type": "markdown",
   "metadata": {},
   "source": [
    "Publication: https://www.nature.com/articles/s41564-021-00972-2#MOESM3\n",
    "\n",
    "GitHub: https://github.com/jbloomlab/SARS-CoV-2-RBD_MAP_AZ_Abs\n",
    "\n",
    "Paper with DMS data for 2 antibodies."
   ]
  },
  {
   "cell_type": "code",
   "execution_count": 21,
   "metadata": {},
   "outputs": [],
   "source": [
    "paper_dir = working_dir / 'COVID-19_JBloom_2021a'"
   ]
  },
  {
   "cell_type": "code",
   "execution_count": 22,
   "metadata": {},
   "outputs": [],
   "source": [
    "# Create a separate mutational escape CSV file for each antibody\n",
    "DMS_raw_data = paper_dir / 'DMS_raw_data'\n",
    "\n",
    "df = pd.read_csv(DMS_raw_data / 'AZ_cocktail_raw_data.csv' , header=0, index_col=0).dropna()\n",
    "df[df.index == 'AZD8895'].to_csv(DMS_raw_data / 'AZD8895_mutational_escape.csv')\n",
    "df[df.index == 'AZD1061'].to_csv(DMS_raw_data / 'AZD1061_mutational_escape.csv')"
   ]
  },
  {
   "cell_type": "code",
   "execution_count": 24,
   "metadata": {},
   "outputs": [
    {
     "name": "stdout",
     "output_type": "stream",
     "text": [
      "AZD1061_7l7e: 261/320 data points.\n",
      "AZD8895_7l7d: 218/300 data points.\n"
     ]
    }
   ],
   "source": [
    "data = {\n",
    "    'AZD1061_mutational_escape.csv':'AZD1061_7l7e.pdb',\n",
    "    'AZD8895_mutational_escape.csv':'AZD8895_7l7d.pdb',\n",
    "}\n",
    "\n",
    "write_interface_DMS_data_files(paper_dir, data, DMS_data_col_name='mut_escape')"
   ]
  },
  {
   "cell_type": "markdown",
   "metadata": {},
   "source": [
    "Publication: https://www.sciencedirect.com/science/article/pii/S1931312820306247\n",
    "\n",
    "GitHub: https://github.com/jbloomlab/SARS-CoV-2-RBD_MAP_Crowe_antibodies\n",
    "\n",
    "Paper with DMS data for 9 SARS-CoV-2 antibodies. There are no PDB structures of the complexes, only negative-stain electron microscopy structures from which they derive the spike protein residues in interaction (i.e the epitope residues)."
   ]
  },
  {
   "cell_type": "code",
   "execution_count": 25,
   "metadata": {},
   "outputs": [],
   "source": [
    "paper_dir = working_dir / 'COVID-19_JBloom_2021b'"
   ]
  },
  {
   "cell_type": "code",
   "execution_count": 26,
   "metadata": {},
   "outputs": [],
   "source": [
    "# Create a separate mutational escape CSV file for each antibody\n",
    "DMS_raw_data = paper_dir / 'DMS_raw_data'\n",
    "\n",
    "df = pd.read_csv(DMS_raw_data / 'MAP_paper_antibodies_raw_data.csv', header=0, index_col=0)\n",
    "for antibody_name, antibody_df in df.groupby(by=df.index):\n",
    "    if antibody_name == 'rCR3022': # It's a SARS-CoV-1 antibody\n",
    "        continue\n",
    "\n",
    "    antibody_df.to_csv(DMS_raw_data / f'{antibody_name}_mutational_escape.csv')"
   ]
  },
  {
   "cell_type": "code",
   "execution_count": 13,
   "metadata": {},
   "outputs": [
    {
     "data": {
      "text/plain": [
       "Ellipsis"
      ]
     },
     "execution_count": 13,
     "metadata": {},
     "output_type": "execute_result"
    }
   ],
   "source": [
    "..."
   ]
  },
  {
   "cell_type": "markdown",
   "metadata": {},
   "source": [
    "Publication: https://www.nature.com/articles/s41467-021-24435-8\n",
    "\n",
    "GitHub: https://github.com/jbloomlab/SARS-CoV-2-RBD_MAP_Crowe_antibodies\n",
    "\n",
    "Paper with DMS data and structures of 10 antibodies."
   ]
  },
  {
   "cell_type": "code",
   "execution_count": 27,
   "metadata": {},
   "outputs": [],
   "source": [
    "paper_dir = working_dir / 'COVID-19_JBloom_2021c'"
   ]
  },
  {
   "cell_type": "code",
   "execution_count": 28,
   "metadata": {},
   "outputs": [],
   "source": [
    "# Create a separate mutational escape CSV file for each antibody\n",
    "DMS_raw_data = paper_dir / 'DMS_raw_data'\n",
    "\n",
    "df = pd.read_csv(DMS_raw_data / 'all_samples_raw_data.csv', header=0, index_col=0)\n",
    "for antibody_name, antibody_df in df.groupby(by=df.index):\n",
    "    if antibody_name.startswith(('subject', 'COV')): # Non-antibody data\n",
    "        continue\n",
    "\n",
    "    antibody_df.to_csv(DMS_raw_data / f'{antibody_name}_mutational_escape.csv')"
   ]
  },
  {
   "cell_type": "code",
   "execution_count": 29,
   "metadata": {},
   "outputs": [
    {
     "name": "stdout",
     "output_type": "stream",
     "text": [
      "C002_7k8s: 250/300 data points.\n",
      "C105_6xcm: 214/380 data points.\n",
      "C110_7k8v: 190/280 data points.\n",
      "C121_7k8x: 188/240 data points.\n",
      "C135_7k8z: 79/140 data points.\n",
      "C144_7k90: 300/400 data points.\n",
      "LY-CoV016_7c01: 272/540 data points.\n",
      "LY-CoV555_7kmg: 218/320 data points.\n",
      "REGN10933_6xdg: 147/220 data points.\n",
      "REGN10987_6xdg: 153/180 data points.\n"
     ]
    }
   ],
   "source": [
    "data = {\n",
    "    'C002_mutational_escape.csv':'C002_7k8s.pdb',\n",
    "    'C105_mutational_escape.csv':'C105_6xcm.pdb',\n",
    "    'C110_mutational_escape.csv':'C110_7k8v.pdb',\n",
    "    'C121_mutational_escape.csv':'C121_7k8x.pdb',\n",
    "    'C135_mutational_escape.csv':'C135_7k8z.pdb',\n",
    "    'C144_mutational_escape.csv':'C144_7k90.pdb',\n",
    "    'LY-CoV016_mutational_escape.csv':'LY-CoV016_7c01.pdb',\n",
    "    'LY-CoV555_mutational_escape.csv':'LY-CoV555_7kmg.pdb',\n",
    "    'REGN10933_mutational_escape.csv':'REGN10933_6xdg.pdb',\n",
    "    'REGN10987_mutational_escape.csv':'REGN10987_6xdg.pdb'\n",
    "}\n",
    "\n",
    "write_interface_DMS_data_files(paper_dir, data, DMS_data_col_name='mut_escape')"
   ]
  },
  {
   "cell_type": "markdown",
   "metadata": {},
   "source": [
    "Publication: https://www.nature.com/articles/s41586-021-03807-6\n",
    "\n",
    "GitHub: https://github.com/jbloomlab/SARS-CoV-2-RBD_MAP_Vir_mAbs\n",
    "\n",
    "Paper with DMS data of 13 antibodies. There is no structure for 4 antibodies (S2H58, S2X16, S2X58 and S2X227)."
   ]
  },
  {
   "cell_type": "code",
   "execution_count": 30,
   "metadata": {},
   "outputs": [],
   "source": [
    "paper_dir = working_dir / 'COVID-19_JBloom_2021d'"
   ]
  },
  {
   "cell_type": "code",
   "execution_count": 31,
   "metadata": {},
   "outputs": [],
   "source": [
    "# Create a separate mutational escape CSV file for each antibody\n",
    "DMS_raw_data = paper_dir / 'DMS_raw_data'\n",
    "\n",
    "df = pd.read_csv(DMS_raw_data / 'all_antibodies_raw_data.csv', header=0, index_col=0)\n",
    "for antibody_name, antibody_df in df.groupby(by=df.index):\n",
    "    if not antibody_name.startswith('S'):\n",
    "        continue\n",
    "\n",
    "    antibody_df.to_csv(DMS_raw_data / f'{antibody_name}_mutational_escape.csv')"
   ]
  },
  {
   "cell_type": "code",
   "execution_count": 32,
   "metadata": {},
   "outputs": [
    {
     "name": "stdout",
     "output_type": "stream",
     "text": [
      "S2D106_7r7n: 181/260 data points.\n",
      "S2E12_7r6x: 183/260 data points.\n",
      "S2H13_7jv6: 122/140 data points.\n",
      "S2H14_7jx3: 232/360 data points.\n",
      "S2H97_7m7w: 162/340 data points.\n",
      "S2X35_7r6w: 240/440 data points.\n",
      "S2X259_7m7w: 240/420 data points.\n",
      "S304_7jx3: 247/440 data points.\n",
      "S309_7r6w: 144/240 data points.\n"
     ]
    }
   ],
   "source": [
    "data = {\n",
    "    'S2D106_mutational_escape.csv': 'S2D106_7r7n.pdb',\n",
    "    'S2E12_mutational_escape.csv':'S2E12_7r6x.pdb',\n",
    "    'S2H13_mutational_escape.csv':'S2H13_7jv6.pdb',\n",
    "    'S2H14_mutational_escape.csv':'S2H14_7jx3.pdb',\n",
    "    # 'S2H58_mutational_escape.csv':'....pdb',\n",
    "    'S2H97_mutational_escape.csv':'S2H97_7m7w.pdb',\n",
    "    # 'LY-S2X16_mutational_escape.csv':'....pdb',\n",
    "    'S2X35_mutational_escape.csv':'S2X35_7r6w.pdb',\n",
    "    # 'S2X58_mutational_escape.csv':'....pdb',\n",
    "    # 'S2X227_mutational_escape.csv':'....pdb',\n",
    "    'S2X259_mutational_escape.csv':'S2X259_7m7w.pdb',\n",
    "    'S304_mutational_escape.csv':'S304_7jx3.pdb',\n",
    "    'S309_mutational_escape.csv':'S309_7r6w.pdb',\n",
    "}\n",
    "\n",
    "write_interface_DMS_data_files(paper_dir, data, DMS_data_col_name='mut_escape')"
   ]
  },
  {
   "cell_type": "markdown",
   "metadata": {},
   "source": [
    "Publication: https://www.nature.com/articles/s41586-022-04980-y\n",
    "\n",
    "GitHub: https://github.com/jbloomlab/SARS2_RBD_Ab_escape_maps\n",
    "\n",
    "\n",
    "**Check https://github.com/jbloomlab/SARS-CoV-2-RBD_MAP_NUS-mAbs/tree/main/data/pdbs for additional PDB structures and \"The epitopes of class 1 antibody S2K146 (PDB ID: 7TAT) is represented in red. The class 3 S309 epitope (PDB ID: 6WPT) is represented in blue, and the class 4 epitopes of C022 (PDB ID: 7RKU), C118 (PDB ID: 7RKS). DH1047 (PDB ID: 7SG4) and ADG-2 (PDB ID: 7U2D) are represented in yellow.\" !!!**\n",
    "\n",
    "Paper with DMS data for 100s of antibodies against the RBD, but antibody-RBD 3D structures are only available for 7 antibodies. In some PDBs, the RBD sequence is Delta/Omicron/etc rather than the Wuhan sequence, yet the DMS data seems to have been generated from the Wuhan sequence, so this needs to be accounted for in some way (how ???).\n",
    "\n",
    "2 additional PDB structures (containing 3 antibodies in total) have been taken from https://www.nature.com/articles/s41422-021-00555-0 (7EYA(BD-804), 7EZV(BD-812 and BD-836)). I suspect there are other publications with PDB structures of other antibody-RBD complexes that could be used to exploit more of the available DMS data."
   ]
  },
  {
   "cell_type": "code",
   "execution_count": 8,
   "metadata": {},
   "outputs": [],
   "source": [
    "paper_dir = working_dir / 'COVID-19_JBloom_2022'"
   ]
  },
  {
   "cell_type": "code",
   "execution_count": 9,
   "metadata": {},
   "outputs": [],
   "source": [
    "# Create a separate mutational escape CSV file for each antibody\n",
    "DMS_raw_data = paper_dir / 'DMS_raw_data'\n",
    "\n",
    "df = pd.read_csv(DMS_raw_data / 'escape_data.csv.zip', header=0, index_col=0, low_memory=False).sort_index()\n",
    "for antibody_name, antibody_df in df.groupby(by=df.index):\n",
    "    if not antibody_name in ('BD-804', 'BD-812', 'BD-836', 'BD55-1239', 'BD55-3152', 'BD55-3372', 'BD55-5840', 'FC08', 'LY-CoV1404'):\n",
    "        continue\n",
    "\n",
    "    antibody_df.to_csv(DMS_raw_data / f'{antibody_name}_mutational_escape.csv')"
   ]
  },
  {
   "cell_type": "code",
   "execution_count": 10,
   "metadata": {},
   "outputs": [
    {
     "name": "stdout",
     "output_type": "stream",
     "text": [
      "BD-804_7eya: 56/340 data points.\n",
      "BD-812_7ezv: 55/260 data points.\n",
      "BD-836_7ezv: 43/280 data points.\n",
      "BD55-1239_Omicron_7wrl: 21/380 data points.\n",
      "BD55-3152_Fab_B11529_7wr8: 68/320 data points.\n",
      "BD55-3372_Delta_7wro: 63/260 data points.\n",
      "BD55-5840_Omicron_7wrz: 65/320 data points.\n",
      "FC08_7dx4: 74/420 data points.\n",
      "LY-CoV1404_7mmo: 151/300 data points.\n"
     ]
    }
   ],
   "source": [
    "data = {\n",
    "    'BD-804_mutational_escape.csv':'BD-804_7eya.pdb',\n",
    "    'BD-812_mutational_escape.csv':'BD-812_7ezv.pdb',\n",
    "    'BD-836_mutational_escape.csv':'BD-836_7ezv.pdb',\n",
    "    'BD55-1239_mutational_escape.csv':'BD55-1239_Omicron_7wrl.pdb',\n",
    "    'BD55-3152_mutational_escape.csv':'BD55-3152_Fab_B11529_7wr8.pdb',\n",
    "    'BD55-3372_mutational_escape.csv':'BD55-3372_Delta_7wro.pdb',\n",
    "    'BD55-5840_mutational_escape.csv':'BD55-5840_Omicron_7wrz.pdb', # or BD55-5840_BA2_7x6a ?\n",
    "    'FC08_mutational_escape.csv':'FC08_7dx4.pdb',\n",
    "    'LY-CoV1404_mutational_escape.csv':'LY-CoV1404_7mmo.pdb',\n",
    "}\n",
    "\n",
    "write_interface_DMS_data_files(paper_dir, data, DMS_data_col_name='mut_escape')"
   ]
  },
  {
   "cell_type": "markdown",
   "metadata": {},
   "source": [
    "Publication: https://www.science.org/doi/full/10.1126/sciadv.ade3470\n",
    "\n",
    "GitHub: https://github.com/jbloomlab/SARS-CoV-2-RBD_MAP_NUS-mAbs\n",
    "\n",
    "Paper with DMS data for 6 new antibodies, of which 1 or 2 have an antibody-antigen 3D structure. \n",
    "\n",
    "Problem: It is not clear what the mapping is between the names of the antibodies in the paper and the names in the DMS CSV file ..."
   ]
  },
  {
   "cell_type": "code",
   "execution_count": 23,
   "metadata": {},
   "outputs": [
    {
     "data": {
      "text/plain": [
       "Ellipsis"
      ]
     },
     "execution_count": 23,
     "metadata": {},
     "output_type": "execute_result"
    }
   ],
   "source": [
    "..."
   ]
  },
  {
   "cell_type": "markdown",
   "metadata": {},
   "source": [
    "Publication: https://www.biorxiv.org/content/10.1101/2024.05.05.592584v1.full.pdf\n",
    "\n",
    "GitHub: https://github.com/dms-vep/SARS-CoV-2_XBB.1.5_spike_DMS_Barnes_mAbs\n",
    "\n",
    "Paper with DMS data for 3-4 antibodies, but the DMS data are generated on antibody combinations rather than individual antibodies, so it's unclear how to make use of this data."
   ]
  },
  {
   "cell_type": "code",
   "execution_count": 24,
   "metadata": {},
   "outputs": [
    {
     "data": {
      "text/plain": [
       "Ellipsis"
      ]
     },
     "execution_count": 24,
     "metadata": {},
     "output_type": "execute_result"
    }
   ],
   "source": [
    "..."
   ]
  },
  {
   "cell_type": "markdown",
   "metadata": {},
   "source": [
    "Publication: pre-print not available yet\n",
    "\n",
    "GitHub: https://github.com/jbloomlab/SARS-CoV-2-RBD_MAP_Karolinska\n",
    "\n",
    "DMS data for 3 antibodies, with only 1 with an available antibody-antigen 3D structure. Once the pre-print is available check if they also resolved the structures of the other 2 complexes."
   ]
  },
  {
   "cell_type": "code",
   "execution_count": 39,
   "metadata": {},
   "outputs": [],
   "source": [
    "paper_dir = working_dir / 'COVID-19_JBloom_2024'"
   ]
  },
  {
   "cell_type": "code",
   "execution_count": 40,
   "metadata": {},
   "outputs": [],
   "source": [
    "# Create a separate mutational escape CSV file for each antibody\n",
    "DMS_raw_data = paper_dir / 'DMS_raw_data'\n",
    "\n",
    "df = pd.read_csv(DMS_raw_data / 'karolinska_raw_data.csv', header=0, index_col=0)\n",
    "for antibody_name, antibody_df in df.groupby(by=df.index):\n",
    "\n",
    "    antibody_df.to_csv(DMS_raw_data / f'{antibody_name}_mutational_escape.csv')"
   ]
  },
  {
   "cell_type": "code",
   "execution_count": 42,
   "metadata": {},
   "outputs": [
    {
     "name": "stdout",
     "output_type": "stream",
     "text": [
      "CAB-A17_8c2r: 194/440 data points.\n"
     ]
    }
   ],
   "source": [
    "data = {\n",
    "    'CAB-A17_mutational_escape.csv':'CAB-A17_8c2r.pdb',\n",
    "    # 'CAB-A49_mutational_escape.csv':'....pdb',\n",
    "    # 'CAB-C19_mutational_escape.csv':'....pdb',\n",
    "}\n",
    "\n",
    "write_interface_DMS_data_files(paper_dir, data, DMS_data_col_name='mut_escape')"
   ]
  },
  {
   "cell_type": "markdown",
   "metadata": {},
   "source": [
    "# HIV"
   ]
  },
  {
   "cell_type": "markdown",
   "metadata": {},
   "source": [
    "Publication: https://www.sciencedirect.com/science/article/pii/S1931312817301968?via%3Dihub\n",
    "\n",
    "GitHub: https://github.com/jbloomlab/SARS-CoV-2-RBD_MAP_Vir_mAbs\n",
    "\n",
    "Very special antibody (PDB: 5fuu), makes contact with 3 different chains as well as 2 N-glycans. Do we keep it ???"
   ]
  },
  {
   "cell_type": "code",
   "execution_count": 28,
   "metadata": {},
   "outputs": [],
   "source": [
    "paper_dir = working_dir / 'HIV_JBloom_2017'"
   ]
  },
  {
   "cell_type": "code",
   "execution_count": 29,
   "metadata": {},
   "outputs": [
    {
     "data": {
      "text/plain": [
       "Ellipsis"
      ]
     },
     "execution_count": 29,
     "metadata": {},
     "output_type": "execute_result"
    }
   ],
   "source": [
    "..."
   ]
  },
  {
   "cell_type": "markdown",
   "metadata": {},
   "source": [
    "Publications: https://journals.plos.org/plospathogens/article?id=10.1371/journal.ppat.1007159\n",
    "\n",
    "GitHub: https://github.com/jbloomlab/MAP_Vaccine_FP_Abs\n",
    "\n",
    "Paper with DMS data for 3 antibodies, with antibody-antigen 3D structures taken from https://www.nature.com/articles/s41591-018-0042-6."
   ]
  },
  {
   "cell_type": "code",
   "execution_count": 43,
   "metadata": {},
   "outputs": [],
   "source": [
    "paper_dir = working_dir / 'HIV_JBloom_2018'"
   ]
  },
  {
   "cell_type": "code",
   "execution_count": 44,
   "metadata": {},
   "outputs": [
    {
     "name": "stdout",
     "output_type": "stream",
     "text": [
      "FP16-02_6cdi: 420/420 data points.\n",
      "FP20-01_6cde: 440/440 data points.\n",
      "VRC34-01_5i8h: 340/340 data points.\n"
     ]
    }
   ],
   "source": [
    "data = {\n",
    "    'summary_FP16-02-500ug-meanmutdiffsel.csv':'FP16-02_6cdi.pdb',\n",
    "    'summary_FP20-01-500ug-meanmutdiffsel.csv':'FP20-01_6cde.pdb',\n",
    "    'summary_VRC34-33ug-meanmutdiffsel.csv':'VRC34-01_5i8h.pdb'\n",
    "}\n",
    "\n",
    "write_interface_DMS_data_files(paper_dir, data, DMS_data_col_name='mutdiffsel')"
   ]
  },
  {
   "cell_type": "markdown",
   "metadata": {},
   "source": [
    "Publications: https://www.ncbi.nlm.nih.gov/pmc/articles/PMC6435357/\n",
    "\n",
    "GitHub: https://github.com/jbloomlab/EnvsAntigenicAtlas\n",
    "\n",
    "Paper with DMS data for 8 antibodies, of which 7 have a usable antibody-antigen 3D structures."
   ]
  },
  {
   "cell_type": "code",
   "execution_count": 45,
   "metadata": {},
   "outputs": [],
   "source": [
    "paper_dir = working_dir / 'HIV_JBloom_2019a'"
   ]
  },
  {
   "cell_type": "code",
   "execution_count": 46,
   "metadata": {},
   "outputs": [
    {
     "name": "stdout",
     "output_type": "stream",
     "text": [
      "3BNC117_5v8m: 540/540 data points.\n",
      "3BN-1074_5t3z: 200/240 data points.\n",
      "PG9_3u4e: 240/340 data points.\n",
      "PGT121_usingPGT122_5fyl: 200/260 data points.\n",
      "PGT145_5v8l: 480/480 data points.\n",
      "PGT151_5fuu: 420/520 data points.\n",
      "VRC01_5fyk: 380/480 data points.\n"
     ]
    }
   ],
   "source": [
    "data = {\n",
    "    'summary_3BNC117-meanmutdiffsel.csv':'3BNC117_5v8m.pdb',\n",
    "    'summary_101074-meanmutdiffsel.csv':'3BN-1074_5t3z.pdb',\n",
    "    'summary_PG9-meanmutdiffsel.csv':'PG9_3u4e.pdb',\n",
    "    'summary_PGT121-meanmutdiffsel.csv':'PGT121_usingPGT122_5fyl.pdb',\n",
    "    'summary_PGT145-meanmutdiffsel.csv':'PGT145_5v8l.pdb',\n",
    "    'summary_PGT151-meanmutdiffsel.csv':'PGT151_5fuu.pdb',\n",
    "    'summary_VRC01-meanmutdiffsel.csv':'VRC01_5fyk.pdb',\n",
    "}\n",
    "\n",
    "write_interface_DMS_data_files(paper_dir, data, DMS_data_col_name='mutdiffsel')"
   ]
  },
  {
   "cell_type": "markdown",
   "metadata": {},
   "source": [
    "Publications: https://www.ncbi.nlm.nih.gov/pmc/articles/PMC6755680/\n",
    "\n",
    "GitHub: https://github.com/jbloomlab/MAP_NHP_FP_Abs\n",
    "\n",
    "Paper with DMS data for 8 antibodies, of which 6 have a usable antibody-antigen 3D structures."
   ]
  },
  {
   "cell_type": "code",
   "execution_count": 47,
   "metadata": {},
   "outputs": [],
   "source": [
    "paper_dir = working_dir / 'HIV_JBloom_2019b'"
   ]
  },
  {
   "cell_type": "code",
   "execution_count": 48,
   "metadata": {},
   "outputs": [
    {
     "name": "stdout",
     "output_type": "stream",
     "text": [
      "17D4_6n1v: 280/280 data points.\n",
      "106E6_6n1w: 340/340 data points.\n",
      "110D12_6mph: 300/300 data points.\n",
      "DF1W314_6mph: 300/300 data points.\n",
      "OPV12_6ot1: 280/280 data points.\n",
      "OPV20_6osy: 300/300 data points.\n"
     ]
    }
   ],
   "source": [
    "data = {\n",
    "    'summary_17D4-meanmutdiffsel.csv':'17D4_6n1v.pdb',\n",
    "    # 'summary_106B6-meanmutdiffsel.csv':'....pdb',\n",
    "    'summary_106E6-meanmutdiffsel.csv':'106E6_6n1w.pdb',\n",
    "    'summary_110D12-meanmutdiffsel.csv':'110D12_6mph.pdb',\n",
    "    # 'summary_DF1W203-meanmutdiffsel.csv': '....pdb',\n",
    "    'summary_DF1W314-meanmutdiffsel.csv':'DF1W314_6mph.pdb',\n",
    "    'summary_OPV12-meanmutdiffsel.csv':'OPV12_6ot1.pdb',\n",
    "    'summary_OPV20-meanmutdiffsel.csv':'OPV20_6osy.pdb',\n",
    "}\n",
    "\n",
    "write_interface_DMS_data_files(paper_dir, data, DMS_data_col_name='mutdiffsel')"
   ]
  },
  {
   "cell_type": "markdown",
   "metadata": {},
   "source": [
    "Publications: https://www.ncbi.nlm.nih.gov/pmc/articles/PMC7042716/\n",
    "\n",
    "GitHub: https://github.com/jbloomlab/MAP_118\n",
    "\n",
    "Paper with DMS data for 1 antibody and its antibody-antigen 3D structure. Note that the DMS data here is survival fraction rather than mutation selection."
   ]
  },
  {
   "cell_type": "code",
   "execution_count": 50,
   "metadata": {},
   "outputs": [],
   "source": [
    "paper_dir = working_dir / 'HIV_JBloom_2020'"
   ]
  },
  {
   "cell_type": "code",
   "execution_count": 51,
   "metadata": {},
   "outputs": [
    {
     "name": "stdout",
     "output_type": "stream",
     "text": [
      "118_6udj: 180/200 data points.\n"
     ]
    }
   ],
   "source": [
    "data = {\n",
    "    'summary_118-meanmutfracsurvive.csv':'118_6udj.pdb',\n",
    "}\n",
    "\n",
    "write_interface_DMS_data_files(paper_dir, data, DMS_data_col_name='mutfracsurvive')"
   ]
  },
  {
   "cell_type": "markdown",
   "metadata": {},
   "source": [
    "Publications: https://www.ncbi.nlm.nih.gov/pmc/articles/PMC8376252/\n",
    "\n",
    "GitHub: XXX\n",
    "\n",
    "Paper with DMS data for 1 antibody and its antibody-antigen 3D structure (7N65). DMS data can be seen in Figure 7a, but the raw data is not available. I have sent an email to the authors."
   ]
  },
  {
   "cell_type": "code",
   "execution_count": 38,
   "metadata": {},
   "outputs": [
    {
     "data": {
      "text/plain": [
       "Ellipsis"
      ]
     },
     "execution_count": 38,
     "metadata": {},
     "output_type": "execute_result"
    }
   ],
   "source": [
    "..."
   ]
  },
  {
   "cell_type": "markdown",
   "metadata": {},
   "source": [
    "Publication: https://www.sciencedirect.com/science/article/pii/S2589004220308142\n",
    "\n",
    "GitHub: https://github.com/meghangarrett/Phage-DMS\n",
    "\n",
    "There might be some data to extract from this paper. It seems like the DMS data needs to be generated using the code on the GitHub, and no PDB structures are referenced in the paper, so need to check if structures are available."
   ]
  },
  {
   "cell_type": "code",
   "execution_count": 39,
   "metadata": {},
   "outputs": [
    {
     "data": {
      "text/plain": [
       "Ellipsis"
      ]
     },
     "execution_count": 39,
     "metadata": {},
     "output_type": "execute_result"
    }
   ],
   "source": [
    "..."
   ]
  },
  {
   "cell_type": "markdown",
   "metadata": {},
   "source": [
    "Publication: https://www.science.org/doi/full/10.1126/science.aad9195\n",
    "\n",
    "GitHub: *NA* (data in supplementary materials)\n",
    "\n",
    "They provide heatmaps in supp mat but not the original values. I have sent an email to ask for the raw values. Potentially 2-3 antibodies."
   ]
  },
  {
   "cell_type": "code",
   "execution_count": 40,
   "metadata": {},
   "outputs": [
    {
     "data": {
      "text/plain": [
       "Ellipsis"
      ]
     },
     "execution_count": 40,
     "metadata": {},
     "output_type": "execute_result"
    }
   ],
   "source": [
    "..."
   ]
  },
  {
   "cell_type": "markdown",
   "metadata": {},
   "source": [
    "Publications: https://www.science.org/doi/10.1126/science.aad9195?url_ver=Z39.88-2003&rfr_id=ori:rid:crossref.org&rfr_dat=cr_pub%20%200pubmed\n",
    "\n",
    "GitHub: \n",
    "\n",
    "Despite being accessible to the Supp Material, I can't access the main part of this paper, making me unable to grab some main points."
   ]
  },
  {
   "cell_type": "markdown",
   "metadata": {},
   "source": [
    "# Influenza"
   ]
  },
  {
   "cell_type": "markdown",
   "metadata": {},
   "source": [
    "Publications: https://www.nature.com/articles/s41467-018-03665-3\n",
    "\n",
    "GitHub: https://github.com/jbloomlab/HA_antibody_ease_of_escape. Median frac survive values were taken from the paper's supplementary Data 5.\n",
    "\n",
    "Carefull with numbering (https://github.com/jbloomlab/HA_numbering) !!!\n",
    "\n",
    "Paper with DMS data for 6 antibodies, of which 3 have an antibody-antigen 3D structure."
   ]
  },
  {
   "cell_type": "code",
   "execution_count": 52,
   "metadata": {},
   "outputs": [],
   "source": [
    "paper_dir = working_dir / 'Influenza_JBloom_2018'"
   ]
  },
  {
   "cell_type": "code",
   "execution_count": 53,
   "metadata": {},
   "outputs": [
    {
     "name": "stdout",
     "output_type": "stream",
     "text": [
      "C179_4hlz: 20/260 data points.\n",
      "FI6V_33ztn: 0/380 data points.\n",
      "S139_4gms: 160/360 data points.\n"
     ]
    }
   ],
   "source": [
    "data = {\n",
    "    'antibody_C179_median_fracsurvive.csv': 'C179_4hlz.pdb',\n",
    "    'antibody_FI6v3_median_fracsurvive.csv':'FI6V_33ztn.pdb',\n",
    "    # 'antibody_H17L7_median_fracsurvive.csv':'....pdb',\n",
    "    # 'antibody_H17L10_median_fracsurvive.csv': '....pdb',\n",
    "    # 'antibody_H17L19_median_fracsurvive.csv': '....pdb',\n",
    "    'antibody_S139_median_fracsurvive.csv':'S139_4gms.pdb',\n",
    "}\n",
    "\n",
    "write_interface_DMS_data_files(paper_dir, data, DMS_data_col_name='mutfracsurvive')"
   ]
  },
  {
   "cell_type": "markdown",
   "metadata": {},
   "source": [
    "Publications: https://elifesciences.org/articles/49324\n",
    "\n",
    "GitHub: https://github.com/jbloomlab/map_flu_serum_Perth2009_H3_HA\n",
    "\n",
    "Paper with DMS data for 6 antibodies, but 0 antibody-antigen 3D structure !!!"
   ]
  },
  {
   "cell_type": "code",
   "execution_count": 43,
   "metadata": {},
   "outputs": [
    {
     "data": {
      "text/plain": [
       "Ellipsis"
      ]
     },
     "execution_count": 43,
     "metadata": {},
     "output_type": "execute_result"
    }
   ],
   "source": [
    "..."
   ]
  },
  {
   "cell_type": "markdown",
   "metadata": {},
   "source": [
    "Publications: https://www.science.org/doi/full/10.1126/science.aaz5143\n",
    "\n",
    "GitHub: https://github.com/wchnicholas/HAstemEscape\n",
    "\n",
    "Paper with DMS data for 3 antibodies, of which 3 have an antibody-antigen 3D structure.\n",
    "\n",
    "**There is a problem with the 'site' column in the raw DMS data !!!**"
   ]
  },
  {
   "cell_type": "code",
   "execution_count": 54,
   "metadata": {},
   "outputs": [],
   "source": [
    "paper_dir = working_dir / 'Influenza_JBloom_2020'"
   ]
  },
  {
   "cell_type": "code",
   "execution_count": 55,
   "metadata": {},
   "outputs": [
    {
     "name": "stdout",
     "output_type": "stream",
     "text": [
      "FI6V3-H3_3ztj: 0/320 data points.\n",
      "CR9114_4fqy: 20/340 data points.\n",
      "FI6V3-H1_3ztn: 0/380 data points.\n"
     ]
    }
   ],
   "source": [
    "data = {\n",
    "    'Perth09_antibody_FI6v3_median_fracsurvive.csv':'FI6V3-H3_3ztj.pdb',\n",
    "    'WSN_antibody_CR9114_median_fracsurvive.csv':'CR9114_4fqy.pdb',\n",
    "    'WSN_antibody_FI6v3_median_fracsurvive.csv':'FI6V3-H1_3ztn.pdb',\n",
    "}\n",
    "\n",
    "write_interface_DMS_data_files(paper_dir, data, DMS_data_col_name='mutfracsurvive')"
   ]
  },
  {
   "cell_type": "markdown",
   "metadata": {},
   "source": [
    "# EGFR"
   ]
  },
  {
   "cell_type": "markdown",
   "metadata": {},
   "source": [
    "Publications: https://www.science.org/doi/full/10.1126/science.aaz5143\n",
    "\n",
    "GitHub: *NA* (data taken from supplementary material)\n",
    "\n",
    "Paper with DMS data for 1 antibody with a 3D structure. DMS is on the antibody !"
   ]
  },
  {
   "cell_type": "code",
   "execution_count": 76,
   "metadata": {},
   "outputs": [],
   "source": [
    "paper_dir = working_dir / 'EGFR_AbbVie_2013'"
   ]
  },
  {
   "cell_type": "code",
   "execution_count": 82,
   "metadata": {},
   "outputs": [],
   "source": [
    "# Extract the enrichment ratio (ER) for each CDR mutation from supplementary material PDF, page 14\n",
    "DMS_raw_data = paper_dir / 'DMS_raw_data'\n",
    "\n",
    "pdf_table = camelot.read_pdf(str(DMS_raw_data / 'mabs-5-523-s01.pdf'), pages=\"14\")\n",
    "df = pdf_table[0].df\n",
    "\n",
    "# Set first row as header (ie column names)\n",
    "df = df.rename(columns=df.iloc[0,:]).drop(0)\n",
    "\n",
    "# Map DNA codons to amino acids\n",
    "DNA_to_AA_map = CodonTable.standard_dna_table.forward_table\n",
    "df.rename(columns=DNA_to_AA_map, inplace=True)\n",
    "df['WT codon'] = [DNA_to_AA_map[codon] for codon in df['WT codon']]\n",
    "\n",
    "# Change dtype of ER columns from str fo float\n",
    "df.replace('', np.nan, inplace=True) # Deal with missing values\n",
    "df = df.astype({amino_acid:'float' for amino_acid in set(DNA_to_AA_map.values())})\n",
    "\n",
    "# Add site, wildtype amino acid and chain columns\n",
    "df['site'] = df.position.apply(lambda value:value.split(':')[1][1:])\n",
    "df['wildtype'] = df['WT codon']\n",
    "df['chain'] = df.position.apply(lambda value:value[1])\n",
    "\n",
    "# Wide to long table reformating\n",
    "df = pd.melt(df.iloc[:, 3:], id_vars=('chain', 'site', 'wildtype'), var_name='mutation', value_name='ER')\n",
    "\n",
    "# Some mutations are duplicated, so we take the average per mutation\n",
    "df.sort_values(by=['chain', 'site', 'mutation'], key=natsort.natsort_keygen(), inplace=True) # Needed for groupby to work correctly\n",
    "df = df.groupby(by=['chain', 'site', 'wildtype', 'mutation'], as_index=False, sort=False).aggregate('mean').round(2)\n",
    "\n",
    "df.to_csv(DMS_raw_data / 'Cetuximab_ER_raw_data.csv', index=False)"
   ]
  },
  {
   "cell_type": "code",
   "execution_count": 83,
   "metadata": {},
   "outputs": [
    {
     "name": "stdout",
     "output_type": "stream",
     "text": [
      "Cetuximab_1yy9: 280/360 data points.\n"
     ]
    }
   ],
   "source": [
    "data = {\n",
    "    'Cetuximab_ER_raw_data.csv':'Cetuximab_1yy9.pdb',\n",
    "}\n",
    "\n",
    "write_interface_DMS_data_files(paper_dir, data, DMS_data_col_name='ER', interface_to_return='antibody')"
   ]
  },
  {
   "cell_type": "markdown",
   "metadata": {},
   "source": [
    "# VEGF"
   ]
  },
  {
   "cell_type": "markdown",
   "metadata": {},
   "source": [
    "Publication: https://www.pnas.org/doi/full/10.1073/pnas.1613231114\n",
    "\n",
    "I have sent an email to have the raw DMS data. A PDB structure is available."
   ]
  },
  {
   "cell_type": "code",
   "execution_count": 49,
   "metadata": {},
   "outputs": [
    {
     "data": {
      "text/plain": [
       "Ellipsis"
      ]
     },
     "execution_count": 49,
     "metadata": {},
     "output_type": "execute_result"
    }
   ],
   "source": [
    "..."
   ]
  },
  {
   "cell_type": "markdown",
   "metadata": {},
   "source": [
    "# Lysozyme"
   ]
  },
  {
   "cell_type": "markdown",
   "metadata": {},
   "source": [
    "Publications: https://journals.plos.org/ploscompbiol/article?id=10.1371/journal.pcbi.1007207\n",
    "\n",
    "GitHub: *NA* (data taken from supplementary material)\n",
    "\n",
    "Paper with DMS data for 1 antibody with a 3D structure. DMS is on the antibody !\n",
    "\n",
    "**The ER values are -ln() transformed, so need to check that the direction of the values is the same as ER values from other publications !!**"
   ]
  },
  {
   "cell_type": "code",
   "execution_count": 59,
   "metadata": {},
   "outputs": [],
   "source": [
    "paper_dir = working_dir / 'lysozyme_fleishmanlab_2019'"
   ]
  },
  {
   "cell_type": "code",
   "execution_count": 60,
   "metadata": {},
   "outputs": [],
   "source": [
    "# Extract and reformat the enrichment ratio (ER) from Excel table.\n",
    "DMS_raw_data = paper_dir / 'DMS_raw_data'\n",
    "\n",
    "df_excel  = pd.read_excel(DMS_raw_data / 'pcbi.1007207.s010.xlsx')\n",
    "mutations = df_excel.iloc[2:, 0].values # Order of the mutations in the table\n",
    "\n",
    "df_light = df_excel.iloc[:, 1:48]\n",
    "df_heavy = df_excel.iloc[:, 48:]\n",
    "\n",
    "with open(DMS_raw_data / 'D441_ER_data.csv', 'w',  newline='') as csv_file:\n",
    "    csv_writer = csv.writer(csv_file)\n",
    "    csv_writer.writerow(['chain','site','wildtype','mutation','ER'])\n",
    "\n",
    "    for _, column in df_light.items():\n",
    "        site = int(column[0])\n",
    "        wildtype = column[1]\n",
    "        for mutation, ER in zip(mutations, column.values[2:]):\n",
    "            csv_writer.writerow(['L', site, wildtype, mutation, float(ER)])\n",
    "\n",
    "    for _, column in df_heavy.items():\n",
    "        site = int(column[0])\n",
    "        wildtype = column[1]\n",
    "        for mutation, ER in zip(mutations, column.values[2:]):\n",
    "            csv_writer.writerow(['H', site, wildtype, mutation, float(ER)])"
   ]
  },
  {
   "cell_type": "code",
   "execution_count": 61,
   "metadata": {},
   "outputs": [
    {
     "name": "stdout",
     "output_type": "stream",
     "text": [
      "D441_1mlc: 340/420 data points.\n"
     ]
    }
   ],
   "source": [
    "data = {\n",
    "    'D441_ER_data.csv':'D441_1mlc.pdb',\n",
    "}\n",
    "\n",
    "write_interface_DMS_data_files(paper_dir, data, DMS_data_col_name='ER', interface_to_return='antibody')"
   ]
  },
  {
   "cell_type": "markdown",
   "metadata": {},
   "source": [
    "# Nerve growth factor (NGF)"
   ]
  },
  {
   "cell_type": "markdown",
   "metadata": {},
   "source": [
    "Publication: https://analyticalsciencejournals.onlinelibrary.wiley.com/doi/full/10.1002/bit.26706\n",
    "\n",
    "GitHub: *NA* (data in supplementary material)\n",
    "\n",
    "DMS data is available, but need to understand how they generated the heatmaps using the raw data, its not clear."
   ]
  },
  {
   "cell_type": "code",
   "execution_count": 53,
   "metadata": {},
   "outputs": [
    {
     "data": {
      "text/plain": [
       "Ellipsis"
      ]
     },
     "execution_count": 53,
     "metadata": {},
     "output_type": "execute_result"
    }
   ],
   "source": [
    "..."
   ]
  },
  {
   "cell_type": "markdown",
   "metadata": {},
   "source": [
    "# TNFaR"
   ]
  },
  {
   "cell_type": "markdown",
   "metadata": {},
   "source": [
    "Publication: https://www.sciencedirect.com/science/article/pii/S0006291X12020384\n",
    "\n",
    "GitHub: *NA*\n",
    "\n",
    "Could try to ask for the raw DMS data, but its a joint publication with a pharma company so unlikely."
   ]
  },
  {
   "cell_type": "code",
   "execution_count": 54,
   "metadata": {},
   "outputs": [
    {
     "data": {
      "text/plain": [
       "Ellipsis"
      ]
     },
     "execution_count": 54,
     "metadata": {},
     "output_type": "execute_result"
    }
   ],
   "source": [
    "..."
   ]
  },
  {
   "cell_type": "markdown",
   "metadata": {},
   "source": [
    "# Other\n",
    "\n",
    "Publications with DMS data for multiple antigens at the same time"
   ]
  },
  {
   "cell_type": "markdown",
   "metadata": {},
   "source": [
    "Publication: https://pubmed.ncbi.nlm.nih.gov/26296891/\n",
    "\n",
    "GitHub: *NA* (data in supplementary materials)\n",
    "\n",
    "DMS data is available, but need to understand how they generated the heatmaps using the raw data, its not clear. 3 antibodies in total with Ab-Ag structures available."
   ]
  },
  {
   "cell_type": "code",
   "execution_count": 55,
   "metadata": {},
   "outputs": [
    {
     "data": {
      "text/plain": [
       "Ellipsis"
      ]
     },
     "execution_count": 55,
     "metadata": {},
     "output_type": "execute_result"
    }
   ],
   "source": [
    "..."
   ]
  },
  {
   "cell_type": "markdown",
   "metadata": {},
   "source": [
    "Publication: https://www.jbc.org/article/S0021-9258(20)44841-0/fulltext\n",
    "\n",
    "GitHub: *NA* (data as heatmaps in main paper)\n",
    "\n",
    "DMS data for 2 antibodies targeting VEGF and angiopoietin, each with an avaiable 3D structures."
   ]
  },
  {
   "cell_type": "code",
   "execution_count": 56,
   "metadata": {},
   "outputs": [
    {
     "data": {
      "text/plain": [
       "Ellipsis"
      ]
     },
     "execution_count": 56,
     "metadata": {},
     "output_type": "execute_result"
    }
   ],
   "source": [
    "..."
   ]
  },
  {
   "cell_type": "markdown",
   "metadata": {},
   "source": [
    "Publications: https://sci-hub.st/10.1016/j.bbrc.2012.10.066\n",
    "\n",
    "..."
   ]
  },
  {
   "cell_type": "markdown",
   "metadata": {},
   "source": [
    "Publication: https://pubmed.ncbi.nlm.nih.gov/33859386/\n",
    "\n",
    "Should have a look, it contains a dataset of ~ 9000 mutations of Trastuzumab's VH-CDR3 (which targets HER2)."
   ]
  },
  {
   "cell_type": "markdown",
   "metadata": {},
   "source": [
    "DL47\n",
    "\n",
    "Publication: https://www.tandfonline.com/doi/full/10.1080/19420862.2020.1829335\n",
    "\n",
    "Title: Beyond affinity: selection of antibody variants with optimal biophysical properties and reduced immunogenicity from mammalian display libraries.\n",
    "\n",
    "GitHub: *NA* (data in supplementary material)\n",
    "\n",
    "Not DMS data - Multiple mutations introduced at the same time and the mutations are not introduced for all positions, thus not \"deep\" "
   ]
  },
  {
   "cell_type": "markdown",
   "metadata": {},
   "source": [
    "DL49\n",
    "\n",
    "Publication: https://www.sciencedirect.com/science/article/abs/pii/S0022283614005750?via%3Dihub\n",
    "\n",
    "Title: Conformation-dependent epitopes recognized by prion protein antibodies probed using mutational scanning and deep sequencing.\n",
    "\n",
    "GitHub: \n",
    "\n",
    "About prion protein-binding antibodies. Mutations were introduced to prion, i.e., the antigen, then the binding affinity were determined. However, I don't find detailed affinity values."
   ]
  },
  {
   "cell_type": "markdown",
   "metadata": {},
   "source": [
    "DL50\n",
    "\n",
    "Publication: https://www-sciencedirect-com.ezproxy.ulb.ac.be/science/article/pii/S0022283614005191#s0020\n",
    "\n",
    "Title: Precise and efficient antibody epitope determination through library design, yeast display and next-generation sequencing.\n",
    "\n",
    "GitHub:\n",
    "\n",
    "About a epitope-idetifying method where the epitope residues are determined by DMS and observation of the affinity change. Only Kd value of wild-type antibodies (targeting S.aureus antigens) are shown in Table S4. I don't find Kd or Kd-like values for all the DMS variants.  "
   ]
  },
  {
   "cell_type": "markdown",
   "metadata": {},
   "source": [
    "DL51\n",
    "\n",
    "Publication: https://www.jbc.org/article/S0021-9258(20)49521-3/fulltext#supplementaryMaterial\n",
    "\n",
    "Title: Rapid fine conformational epitope mapping using comprehensive mutagenesis and deep sequencing.\n",
    "\n",
    "GitHub: NA\n",
    "\n",
    "Experimental epitope-mapping method. Affinity change values are formatted in heatmaps. They defined their own \"fitness metric\"."
   ]
  },
  {
   "cell_type": "markdown",
   "metadata": {},
   "source": [
    "DL!52\n",
    "\n",
    "Publication: https://analyticalsciencejournals-onlinelibrary-wiley-com.ezproxy.ulb.ac.be/doi/full/10.1002/bit.26706\n",
    "\n",
    "Title: Pro region engineering of nerve growth factor by deep mutational scanning enables a yeast platform for conformational epitope mapping of anti-NGF monoclonal antibodies.\n",
    "\n",
    "GitHub: https://github.com/JKlesmith/Deep_Sequencing_Analysis\n",
    "\n",
    "Study of tanezumab, a humanized anti-NGF mAb."
   ]
  },
  {
   "cell_type": "markdown",
   "metadata": {},
   "source": [
    "DL53\n",
    "\n",
    "Publication: https://www.mcponline.org/article/S1535-9476(20)33088-7/fulltext#supplementaryMaterial\n",
    "\n",
    "Title: Proteome-wide Epitope Mapping of Antibodies Using Ultra-dense Peptide Arrays\n",
    "\n",
    "No DMS data"
   ]
  },
  {
   "cell_type": "markdown",
   "metadata": {},
   "source": [
    "DL!54\n",
    "\n",
    "Publication: https://journals.plos.org/plospathogens/article?id=10.1371/journal.ppat.1009453\n",
    "\n",
    "Title: A human coronavirus evolves antigenically to escape antibody immunity\n",
    "\n",
    "GitHub: https://github.com/jbloomlab/CoV_229E_antigenic_drift"
   ]
  },
  {
   "cell_type": "markdown",
   "metadata": {},
   "source": [
    "DL!55\n",
    "\n",
    "Publication: https://journals.asm.org/doi/epub/10.1128/jvi.01291-19\n",
    "\n",
    "Title: Deep Mutational Scanning Comprehensively Maps How Zika Envelope Protein Mutations Affect Viral Growth and Antibody Escape\n",
    "\n",
    "GitHub: https://github.com/jbloomlab/ZIKV_DMS_with_EvansLab"
   ]
  },
  {
   "cell_type": "markdown",
   "metadata": {},
   "source": [
    "DL!56\n",
    "\n",
    "Publication: https://journals.plos.org/plospathogens/article?id=10.1371/journal.ppat.1006271#sec016\n",
    "\n",
    "Title: Complete mapping of viral escape from neutralizing antibodies\n",
    "\n",
    "GitHub: https://github.com/mbdoud/mutational_antigenic_profiling"
   ]
  },
  {
   "cell_type": "markdown",
   "metadata": {},
   "source": [
    "DL!57\n",
    "\n",
    "Publication: https://www.pnas.org/doi/abs/10.1073/pnas.1806133115?url_ver=Z39.88-2003&rfr_id=ori%3Arid%3Acrossref.org&rfr_dat=cr_pub++0pubmed\n",
    "\n",
    "Title: Deep mutational scanning of hemagglutinin helps predict evolutionary fates of human H3N2 influenza variants\n",
    "\n",
    "GitHub: https://github.com/jbloomlab/Perth2009-DMS-Manuscript"
   ]
  },
  {
   "cell_type": "markdown",
   "metadata": {},
   "source": [
    "DL58\n",
    "\n",
    "Publication: https://www.science.org/doi/epdf/10.1126/science.aaz5143\n",
    "\n",
    "Title: Different genetic barriers for resistance to HA stem antibodies in influenza H3 and H1 viruses."
   ]
  },
  {
   "cell_type": "markdown",
   "metadata": {},
   "source": [
    "DL!59\n",
    "\n",
    "Publication: https://www.cell.com/cell-host-microbe/fulltext/S1931-3128(17)30204-4?_returnURL=https%3A%2F%2Flinkinghub.elsevier.com%2Fretrieve%2Fpii%2FS1931312817302044%3Fshowall%3Dtrue\n",
    "\n",
    "Title: Diversity of Functionally Permissive Sequences in the Receptor-Binding Site of Influenza Hemagglutinin"
   ]
  },
  {
   "cell_type": "markdown",
   "metadata": {},
   "source": [
    "DL!60\n",
    "\n",
    "Publication: https://www.cell.com/cell-host-microbe/fulltext/S1931-3128(17)30196-8?_returnURL=https%3A%2F%2Flinkinghub.elsevier.com%2Fretrieve%2Fpii%2FS1931312817301968%3Fshowall%3Dtrue#supplementaryMaterial\n",
    "\n",
    "Title: Comprehensive mapping of HIV-1 escape from a broadly neutralizing antibody."
   ]
  },
  {
   "cell_type": "markdown",
   "metadata": {},
   "source": [
    "DL!62\n",
    "\n",
    "Publication: https://www.cell.com/cell/fulltext/S0092-8674(20)31003-5?_returnURL=https%3A%2F%2Flinkinghub.elsevier.com%2Fretrieve%2Fpii%2FS0092867420310035%3Fshowall%3Dtrue\n",
    "\n",
    "Title: Deep Mutational Scanning of SARS-CoV-2 Receptor Binding Domain Reveals Constraints on Folding and ACE2 Binding\n",
    "\n",
    "GitHub: https://github.com/jbloomlab/SARS-CoV-2-RBD_DMS"
   ]
  },
  {
   "cell_type": "markdown",
   "metadata": {},
   "source": [
    "DL!63\n",
    "\n",
    "Publication: https://www.nature.com/articles/s41586-021-03807-6#Sec7\n",
    "\n",
    "Title: SARS-CoV-2 RBD antibodies that maximize breadth and resistance to escape.\n",
    "\n",
    "GitHub: https://github.com/jbloomlab/SARS-CoV-2-RBD_MAP_Vir_mAbs\n",
    "\n",
    "DMS data locate at GitHub sub-directory: results/supp_data"
   ]
  },
  {
   "cell_type": "markdown",
   "metadata": {},
   "source": [
    "DL!64\n",
    "\n",
    "Publication: https://www.cell.com/cell-reports-medicine/fulltext/S2666-3791(21)00071-9?_returnURL=https%3A%2F%2Flinkinghub.elsevier.com%2Fretrieve%2Fpii%2FS2666379121000719%3Fshowall%3Dtrue\n",
    "\n",
    "Title: Complete map of SARS-CoV-2 RBD mutations that escape the monoclonal antibody LY-CoV555 and its cocktail with LY-CoV016\n",
    "\n",
    "GitHub: https://jbloomlab.github.io/SARS-CoV-2-RBD_MAP_LY-CoV555"
   ]
  },
  {
   "cell_type": "markdown",
   "metadata": {},
   "source": [
    "DL!65\n",
    "\n",
    "Publication: https://www.science.org/doi/full/10.1126/science.abf9302?\n",
    "\n",
    "Title: Prospective mapping of viral mutations that escape antibodies used to treat COVID-19\n",
    "\n",
    "GitHub: https://github.com/jbloomlab/SARS-CoV-2-RBD_MAP_clinical_Abs\n",
    "\n",
    "DMS data for antibody LY-CoV016 and REGN10933 and REGN10987."
   ]
  },
  {
   "cell_type": "code",
   "execution_count": null,
   "metadata": {},
   "outputs": [],
   "source": [
    "paper_dir = working_dir / 'COVID-19_JBloom_2021e'\n",
    "DMS_raw_data_dir = paper_dir / \"DMS_raw_data\"\n",
    "\n",
    "df = pd.read_csv(DMS_raw_data_dir / \"REGN_and_LY-CoV016_raw_data.csv\")\n",
    "for name in df[\"condition\"].drop_duplicates():\n",
    "    df[df[\"condition\"]==name].to_csv(DMS_raw_data_dir/f\"{name}_raw_data.csv\")\n",
    "\n",
    "# data = {\n",
    "#     'summary_EDE1-C8-1800-meanmutdiffsel.csv':'EDE1-C8_5lbs.pdb',\n",
    "#     'summary_EDE1-C10-300-meanmutdiffsel.csv':'EDE1-C10_5h37.pdb',\n",
    "#     'summary_MZ4-4800-medianmutdiffsel.csv':'MZ4_6niu.pdb',\n",
    "#     'summary_SIgN-3C-20000-meanmutdiffsel.csv':'SIgN-3C_7bua.pdb',\n",
    "#     'summary_ZV-67-40000-meanmutdiffsel.csv':'ZV-67_5kvg.pdb'\n",
    "# }\n",
    "\n",
    "# write_interface_DMS_data_files(paper_dir, data, DMS_data_col_name='mutdiffsel')"
   ]
  },
  {
   "cell_type": "markdown",
   "metadata": {},
   "source": [
    "DL!66 (alreay included in DMS_antibody_dataset/COVID-19_JBloom_2021d)\n",
    "\n",
    "Publication: https://www.nature.com/articles/s41586-021-03817-4#data-availability\n",
    "\n",
    "Title: Broad sarbecovirus neutralization by a human monoclonal antibody.\n",
    "\n",
    "GitHub: https://github.com/jbloomlab/SARS-CoV-2-RBD_MAP_Vir_mAbs"
   ]
  },
  {
   "cell_type": "markdown",
   "metadata": {},
   "source": [
    "DL!67 (already included in DMS_antibody_dataset/COVID-19_JBloom_2021c)\n",
    "\n",
    "Publication: https://www.cell.com/cell-host-microbe/fulltext/S1931-3128(20)30624-7\n",
    "\n",
    "Title: Complete Mapping of Mutations to the SARS-CoV-2 Spike Receptor-Binding Domain that Escape Antibody Recognition\n",
    "\n",
    "GitHub: https://github.com/jbloomlab/SARS-CoV-2-RBD_MAP_Crowe_antibodies\n",
    "\n",
    "Ten antibodies binding to corresponding Coronavirus spike protein RBD (9 for ACE2 RBD in SARS-CoV-2; 1 for rCR3022 RBD). "
   ]
  },
  {
   "cell_type": "markdown",
   "metadata": {},
   "source": [
    "DL!68\n",
    "\n",
    "Publication: https://www.nature.com/articles/s41564-021-00972-2\n",
    "\n",
    "Title: Genetic and structural basis for SARS-CoV-2 variant neutralization by a two-antibody cocktail\n",
    "\n",
    "GitHub: https://github.com/jbloomlab/SARS-CoV-2-RBD_MAP_AZ_Abs"
   ]
  },
  {
   "cell_type": "markdown",
   "metadata": {},
   "source": [
    "DL69\n",
    "\n",
    "Publication: https://www.frontiersin.org/journals/microbiology/articles/10.3389/fmicb.2021.698365/full\n",
    "\n",
    "Title: Comprehensive Deep Mutational Scanning Reveals the Immune-Escaping Hotspots of SARS-CoV-2 Receptor-Binding Domain Targeting Neutralizing Antibodies\n",
    "\n",
    "They have DMS data but the values were computationally predicted, not from experimental tests."
   ]
  },
  {
   "cell_type": "markdown",
   "metadata": {},
   "source": [
    "DL70\n",
    "\n",
    "Publication: https://academic.oup.com/bioinformatics/article/37/22/4041/6295884?login=false#405570562\n",
    "\n",
    "Title: Humanization of antibodies using a machine learning approach on large-scale repertoire data \n",
    "\n",
    "This is methodology paper from Charlotte Deane's lab about a classifer to discriminate human antibody (sequences) from non-human ones. Users can introduce mutations to an Ab sequence then score the level of its humanization."
   ]
  },
  {
   "cell_type": "markdown",
   "metadata": {},
   "source": [
    "DL71\n",
    "\n",
    "Publication: https://academic.oup.com/bioinformatics/article/36/13/3996/5823885?login=false\n",
    "\n",
    "Title: Learning context-aware structural representations to predict antigen and antibody binding interfaces\n",
    "\n",
    "PECAN's paper, which is a paratope and epitope interface predictor."
   ]
  },
  {
   "cell_type": "markdown",
   "metadata": {},
   "source": [
    "DL!72\n",
    "\n",
    "Publication: https://www.ncbi.nlm.nih.gov/pmc/articles/PMC7223817/\n",
    "\n",
    "Title: A topology-based network tree for the prediction of protein–protein binding affinity changes following mutation\n",
    "\n",
    "An in-silico ddG predictor. They used AB-bind and SKEMPI datasets, which are instereting."
   ]
  },
  {
   "cell_type": "markdown",
   "metadata": {},
   "source": [
    "DL!73\n",
    "\n",
    "Publication: https://bmcbioinformatics.biomedcentral.com/articles/10.1186/s12859-020-3439-4#availability-of-data-and-materials\n",
    "\n",
    "Title: Variant effect predictions capture some aspects of deep mutational scanning experiments\n",
    "\n",
    "Bechmarking analysis of serveral SAV preditors. Their test sets are given at: https://data.mendeley.com/datasets/2rwrkp7mfk/1. These are DMS data but for general proteins. So need to further check if there is Ab DMS data."
   ]
  },
  {
   "cell_type": "markdown",
   "metadata": {},
   "source": [
    "DL!74\n",
    "\n",
    "Publication: https://onlinelibrary.wiley.com/doi/epdf/10.1002/prot.26184\n",
    "\n",
    "Title: Predicting mutant outcome by combining deep mutational scanning and machine learning.\n",
    "\n",
    "A mutation outcome predictor. One of the datasets they used is immunoglobulin-related, namely IGBPG (immunoglobulin G-binding β1 domain of streptococcal protein G). Need to check if this IGBPG is an antigen or an non-antigen Ab-binding protein."
   ]
  },
  {
   "cell_type": "markdown",
   "metadata": {},
   "source": [
    "DL!75\n",
    "\n",
    "Publication: https://www.biorxiv.org/content/10.1101/2020.07.14.201475v4.full\n",
    "\n",
    "Title: MAVE-NN: quantitative modeling of genotype–phenotype maps as information bottlenecks.\n",
    "\n",
    "They used GB1 DMS dataset, which is similar to the above one."
   ]
  },
  {
   "cell_type": "markdown",
   "metadata": {},
   "source": [
    "DL76\n",
    "\n",
    "Publication: https://www.mdpi.com/2073-4468/9/2/12\n",
    "\n",
    "Title: A Review of Deep Learning Methods for Antibodies\n",
    "\n",
    "A review. In \"datasets/benchmarks\" sections, the authors list two DMS-related datasets: AB-Bind and SKEMPI, which were already covered by the above papers. "
   ]
  },
  {
   "cell_type": "markdown",
   "metadata": {},
   "source": [
    "DL!77\n",
    "\n",
    "Publication: https://www.nature.com/articles/s41467-021-22732-w\n",
    "\n",
    "Title: Protein design and variant prediction using autoregressive generative models\n",
    "\n",
    "GitHub: https://github.com/debbiemarkslab/SeqDesign"
   ]
  },
  {
   "cell_type": "markdown",
   "metadata": {},
   "source": [
    "DL?78\n",
    "\n",
    "Publication: https://www.nature.com/articles/s41551-021-00699-9#data-availability\n",
    "\n",
    "Title: Optimization of therapeutic antibodies by predicting antigen specificity from antibody sequence via deep learning\n",
    "\n",
    "GitHub: https://github.com/dahjan/DMS_opt\n",
    "\n",
    "The authors said \"The raw and analysed datasets generated during the study are too large to be publicly shared\"."
   ]
  },
  {
   "cell_type": "markdown",
   "metadata": {},
   "source": [
    "DL?79\n",
    "\n",
    "Publication: https://academic.oup.com/bioinformatics/article/36/7/2126/5645171?login=false#409064291\n",
    "\n",
    "Title: Antibody complementarity determining region design using high-capacity machine learning \n",
    "\n",
    "GitHub: https://github.com/gifford-lab/antibody-2019\n",
    "\n",
    "A predictor of phage display panning enrichment. I am not sure if this is related to DMS."
   ]
  },
  {
   "cell_type": "markdown",
   "metadata": {},
   "source": [
    "DL80\n",
    "\n",
    "Publication: https://www.biorxiv.org/content/10.1101/2021.07.09.450648v2.full\n",
    "\n",
    "Title: Language models enable zero-shot prediction of the effects of mutations on protein function\n",
    "\n",
    "A predictor of mutation outcome, like #74 and #75. The dataset is the same as in #78."
   ]
  },
  {
   "cell_type": "markdown",
   "metadata": {},
   "source": [
    "DL81\n",
    "\n",
    "Publication: https://www.pnas.org/doi/full/10.1073/pnas.2016239118\n",
    "\n",
    "Title: Biological structure and function emerge from scaling unsupervised learning to 250 million protein sequences\n",
    "\n",
    "A large-scale unsupervised learning on protein sequences. They applied the embeddings to Prediction of Mutational Effects. The two datasets they used are: 1) the same as in #78; 2) in this paper: https://www.cell.com/cms/10.1016/j.cels.2017.11.003/attachment/e0dd3c5d-9f2a-4b4c-a403-4aa4f5716717/mmc1 (see Table S1) \n",
    "which are already covered by the above papers."
   ]
  }
 ],
 "metadata": {
  "kernelspec": {
   "display_name": "venv",
   "language": "python",
   "name": "python3"
  },
  "language_info": {
   "codemirror_mode": {
    "name": "ipython",
    "version": 3
   },
   "file_extension": ".py",
   "mimetype": "text/x-python",
   "name": "python",
   "nbconvert_exporter": "python",
   "pygments_lexer": "ipython3",
   "version": "3.11.9"
  }
 },
 "nbformat": 4,
 "nbformat_minor": 2
}
