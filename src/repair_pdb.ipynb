{
 "cells": [
  {
   "cell_type": "markdown",
   "metadata": {},
   "source": [
    "#### This script uses LocalColabFold to repair the PDB files in AbAGym, specifically:\n",
    "* Add missing side-chain atoms\n",
    "* Add missing residues\n",
    "* Mutate some wrong residues in the original files to the correct ones  "
   ]
  },
  {
   "cell_type": "code",
   "execution_count": 2,
   "metadata": {},
   "outputs": [],
   "source": [
    "import os\n",
    "import warnings\n",
    "from pathlib import Path\n",
    "\n",
    "import pandas as pd\n",
    "from Bio import SeqIO\n",
    "from Bio.SeqUtils import seq3\n",
    "from pdbfixer import PDBFixer\n",
    "\n",
    "warnings.filterwarnings(\"ignore\")\n",
    "\n",
    "working_dir = Path(os.getcwd()).parent\n",
    "rcsb_dir = working_dir / \"RCSB_PDBs\"\n",
    "repair_dir = working_dir / \"Problematic_PDBs\""
   ]
  },
  {
   "cell_type": "markdown",
   "metadata": {},
   "source": [
    "##### Produce a table of metadata"
   ]
  },
  {
   "cell_type": "code",
   "execution_count": 3,
   "metadata": {},
   "outputs": [],
   "source": [
    "metatbl = pd.DataFrame(columns=[\"project\", \"dms_table\", \"dms_pdb\", \"rcsb_id\"])\n",
    "\n",
    "for data_dir in working_dir.iterdir():\n",
    "    if data_dir.name.count(\"_\") == 2 and not data_dir.name.count(\".\"):  # Excludes dirs like \"src\"\n",
    "        if (data_dir/\"PDB_structures\").exists() and (data_dir/\"DMS_interface_data\").exists():\n",
    "            for fpath in (data_dir/\"DMS_interface_data\").iterdir():\n",
    "                project_id = \"_\".join(fpath.name.split(\"_\")[:-3])\n",
    "                rcsb_id = project_id.split(\"_\")[-1]\n",
    "                metatbl.loc[len(metatbl.index)] = [\n",
    "                    project_id, \n",
    "                    str(fpath), \n",
    "                    str(data_dir / f\"PDB_structures/{project_id}.pdb\"), \n",
    "                    rcsb_id\n",
    "                ]\n",
    "\n",
    "metatbl.to_csv(working_dir / \"DMS_metadata.csv\", index=False)"
   ]
  },
  {
   "cell_type": "markdown",
   "metadata": {},
   "source": [
    "##### Check PDB files"
   ]
  },
  {
   "cell_type": "code",
   "execution_count": 4,
   "metadata": {},
   "outputs": [],
   "source": [
    "def get_seqres_atom_seq_mapper(rcsb_file):\n",
    "    chain_to_seqres_seq = {r.id[-1]: str(r.seq) for r in SeqIO.parse(rcsb_file, \"pdb-seqres\")}\n",
    "    chain_to_atom_seq = {r.id[-1]: str(r.seq) for r in SeqIO.parse(rcsb_file, \"pdb-atom\")}\n",
    "    atom_to_seqres = {}\n",
    "    for chain in chain_to_seqres_seq:\n",
    "        atom_to_seqres[chain_to_atom_seq[chain]] = chain_to_seqres_seq[chain]\n",
    "    return atom_to_seqres\n",
    "\n",
    "\n",
    "def get_seqres_lines(chain, seq):\n",
    "    seq = [seq3(a).upper() for a in list(seq)]\n",
    "    seq_len = len(seq)\n",
    "    seqres_lines = []\n",
    "    i = 0\n",
    "    for i in range(seq_len//13):\n",
    "        seq_perline = seq[13*i:13*i+13]\n",
    "        line = f\"SEQRES{str(i+1):^5}{chain}{str(seq_len):^7}{' '.join(seq_perline)}\"\n",
    "        seqres_lines.append(line)\n",
    "    seq_perline = seq[13*i+13:]\n",
    "    line = f\"SEQRES{str(i+2):^4} {chain}{str(seq_len):^7}{' '.join(seq_perline)}\"\n",
    "    seqres_lines.append(line)\n",
    "    seqres = \"\\n\".join(seqres_lines)\n",
    "    return seqres\n",
    "\n",
    "\n",
    "def write_seqres(sample_file, rcsb_file, outdir):\n",
    "    chain_to_atom_seq = {\n",
    "        r.id[-1]: str(r.seq) \n",
    "        for r in list(SeqIO.parse(sample_file, \"pdb-atom\"))\n",
    "    }\n",
    "    rcsb_atom_to_seqres = get_seqres_atom_seq_mapper(rcsb_file)\n",
    "    chain_to_seqres_seq = {\n",
    "        chain: rcsb_atom_to_seqres[seq]\n",
    "        for chain, seq in chain_to_atom_seq.items()\n",
    "    }\n",
    "    seqres_lines = []\n",
    "    for chain, seq in chain_to_seqres_seq.items():\n",
    "        seqres_lines.append(get_seqres_lines(chain, seq))\n",
    "    seqres_lines = \"\\n\".join(seqres_lines)\n",
    "    # Merge structure and seqres\n",
    "    with open(sample_file, \"r\") as fp:\n",
    "        pdb_content = fp.read()\n",
    "    outfile = f\"{outdir}/{Path(sample_file).name}\"\n",
    "    with open(outfile, \"w\") as fp:\n",
    "        fp.write(seqres_lines+\"\\n\"+pdb_content)\n",
    "    return outfile\n",
    "\n",
    "\n",
    "for i in metatbl.index:\n",
    "    repaired_file = write_seqres(\n",
    "        metatbl.loc[i, \"dms_pdb\"],\n",
    "        f\"{rcsb_dir}/{metatbl.loc[i, 'rcsb_id']}.pdb\",\n",
    "        str(repair_dir)\n",
    "    )\n",
    "    metatbl.loc[i, \"repaired_pdb\"] = repaired_file\n",
    "\n",
    "metatbl.to_csv(working_dir / \"DMS_metadata.csv\", index=False)"
   ]
  },
  {
   "cell_type": "code",
   "execution_count": 7,
   "metadata": {},
   "outputs": [],
   "source": [
    "pdbs_to_mutate = {\n",
    "    \"BD55-3152_7wr8\": [(339, 'D', 'G')],\n",
    "    \"BD55-5840_7wrz\": [(339, 'D', 'G')],\n",
    "    \"CAB-A17_8c2r\": [(417, 'N', 'K'), (496, 'S', 'G'), (477, 'N', 'S'), (501, 'Y', 'N'), (505, 'H', 'Y'), (493, 'R', 'Q')],\n",
    "    \"D441_1mlc\": [(32, 'Y', 'N'), (31, 'T', 'N'), (50, 'E', 'Y'), (33, 'W', 'L')],\n",
    "    \"EDE1-C8_5lbs\": [(317, 'I', 'V')],\n",
    "    \"ZKA64_5kvf\": [(343, 'A', 'V')],\n",
    "    \"ZV-67_5kvg\": [(393, 'E', 'D'), (317, 'I', 'V')]\n",
    "}\n",
    "\n",
    "\n",
    "def check_seq_entirety(pdbfixer: PDBFixer):\n",
    "    missing_resids = pdbfixer.missingResidues\n",
    "    chains = list(pdbfixer.topology.chains())\n",
    "    flags = []\n",
    "    for chain_idx, posit in missing_resids.keys():\n",
    "        chain = chains[chain_idx]\n",
    "        if posit == 0 or len(list(chain.residues())) == posit:\n",
    "            flags.append(1)\n",
    "        else:\n",
    "            flags.append(2)\n",
    "    if 2 in flags:\n",
    "        return 2\n",
    "    elif 1 in flags:\n",
    "        return 1\n",
    "    else:\n",
    "        return 0\n",
    "\n",
    "\n",
    "for i in metatbl.index:\n",
    "    fixer = PDBFixer(metatbl.loc[i, \"repaired_pdb\"])\n",
    "    fixer.findMissingResidues()\n",
    "    fixer.findMissingAtoms()\n",
    "    missing_atoms = fixer.missingAtoms\n",
    "    # print(metatbl.loc[i, \"project\"])\n",
    "    seq_entirety_flag = check_seq_entirety(fixer)\n",
    "    metatbl.loc[i, \"seq_entirety\"] = seq_entirety_flag\n",
    "    metatbl.loc[i, \"atom_entirety\"] = int(bool(missing_atoms))\n",
    "    mutations = pdbs_to_mutate.get(metatbl.loc[i, \"project\"], [])\n",
    "    metatbl.loc[i, \"mutation_dict\"] = \",\".join([f\"{mut[1]}{mut[0]}{mut[2]}\" for mut in mutations])\n",
    "\n",
    "metatbl.to_csv(working_dir / \"DMS_metadata.csv\", index=False)"
   ]
  },
  {
   "cell_type": "markdown",
   "metadata": {},
   "source": [
    "##### Get target sequences"
   ]
  },
  {
   "cell_type": "code",
   "execution_count": null,
   "metadata": {},
   "outputs": [],
   "source": []
  }
 ],
 "metadata": {
  "kernelspec": {
   "display_name": "Python 3",
   "language": "python",
   "name": "python3"
  },
  "language_info": {
   "codemirror_mode": {
    "name": "ipython",
    "version": 3
   },
   "file_extension": ".py",
   "mimetype": "text/x-python",
   "name": "python",
   "nbconvert_exporter": "python",
   "pygments_lexer": "ipython3",
   "version": "3.10.14"
  }
 },
 "nbformat": 4,
 "nbformat_minor": 2
}
